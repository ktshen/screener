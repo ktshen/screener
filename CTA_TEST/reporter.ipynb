{
 "cells": [
  {
   "cell_type": "code",
   "execution_count": 15,
   "metadata": {},
   "outputs": [
    {
     "ename": "ImportError",
     "evalue": "cannot import name 'generated_jit' from 'numba' (/Library/Frameworks/Python.framework/Versions/3.11/lib/python3.11/site-packages/numba/__init__.py)",
     "output_type": "error",
     "traceback": [
      "\u001b[0;31m---------------------------------------------------------------------------\u001b[0m",
      "\u001b[0;31mImportError\u001b[0m                               Traceback (most recent call last)",
      "Cell \u001b[0;32mIn[15], line 47\u001b[0m\n\u001b[1;32m     45\u001b[0m \u001b[38;5;28;01mfor\u001b[39;00m strategy_name \u001b[38;5;129;01min\u001b[39;00m strategy_folders:\n\u001b[1;32m     46\u001b[0m     module_name \u001b[38;5;241m=\u001b[39m \u001b[38;5;124mf\u001b[39m\u001b[38;5;124m'\u001b[39m\u001b[38;5;124mCRYPTO.\u001b[39m\u001b[38;5;132;01m{\u001b[39;00mstrategy_name\u001b[38;5;132;01m}\u001b[39;00m\u001b[38;5;124m.\u001b[39m\u001b[38;5;132;01m{\u001b[39;00mstrategy_name\u001b[38;5;132;01m}\u001b[39;00m\u001b[38;5;124m'\u001b[39m\n\u001b[0;32m---> 47\u001b[0m     strategy_module \u001b[38;5;241m=\u001b[39m \u001b[43mimportlib\u001b[49m\u001b[38;5;241;43m.\u001b[39;49m\u001b[43mimport_module\u001b[49m\u001b[43m(\u001b[49m\u001b[43mmodule_name\u001b[49m\u001b[43m)\u001b[49m\n\u001b[1;32m     48\u001b[0m     Strategy \u001b[38;5;241m=\u001b[39m \u001b[38;5;28mgetattr\u001b[39m(strategy_module, \u001b[38;5;124m'\u001b[39m\u001b[38;5;124mStrategy\u001b[39m\u001b[38;5;124m'\u001b[39m)\n\u001b[1;32m     49\u001b[0m     param_list \u001b[38;5;241m=\u001b[39m os\u001b[38;5;241m.\u001b[39mlistdir(\u001b[38;5;124mf\u001b[39m\u001b[38;5;124m'\u001b[39m\u001b[38;5;124m./Crypto/\u001b[39m\u001b[38;5;132;01m{\u001b[39;00mstrategy_name\u001b[38;5;132;01m}\u001b[39;00m\u001b[38;5;124m/opt/\u001b[39m\u001b[38;5;124m'\u001b[39m)\n",
      "File \u001b[0;32m/Library/Frameworks/Python.framework/Versions/3.11/lib/python3.11/importlib/__init__.py:126\u001b[0m, in \u001b[0;36mimport_module\u001b[0;34m(name, package)\u001b[0m\n\u001b[1;32m    124\u001b[0m             \u001b[38;5;28;01mbreak\u001b[39;00m\n\u001b[1;32m    125\u001b[0m         level \u001b[38;5;241m+\u001b[39m\u001b[38;5;241m=\u001b[39m \u001b[38;5;241m1\u001b[39m\n\u001b[0;32m--> 126\u001b[0m \u001b[38;5;28;01mreturn\u001b[39;00m \u001b[43m_bootstrap\u001b[49m\u001b[38;5;241;43m.\u001b[39;49m\u001b[43m_gcd_import\u001b[49m\u001b[43m(\u001b[49m\u001b[43mname\u001b[49m\u001b[43m[\u001b[49m\u001b[43mlevel\u001b[49m\u001b[43m:\u001b[49m\u001b[43m]\u001b[49m\u001b[43m,\u001b[49m\u001b[43m \u001b[49m\u001b[43mpackage\u001b[49m\u001b[43m,\u001b[49m\u001b[43m \u001b[49m\u001b[43mlevel\u001b[49m\u001b[43m)\u001b[49m\n",
      "File \u001b[0;32m<frozen importlib._bootstrap>:1204\u001b[0m, in \u001b[0;36m_gcd_import\u001b[0;34m(name, package, level)\u001b[0m\n",
      "File \u001b[0;32m<frozen importlib._bootstrap>:1176\u001b[0m, in \u001b[0;36m_find_and_load\u001b[0;34m(name, import_)\u001b[0m\n",
      "File \u001b[0;32m<frozen importlib._bootstrap>:1147\u001b[0m, in \u001b[0;36m_find_and_load_unlocked\u001b[0;34m(name, import_)\u001b[0m\n",
      "File \u001b[0;32m<frozen importlib._bootstrap>:690\u001b[0m, in \u001b[0;36m_load_unlocked\u001b[0;34m(spec)\u001b[0m\n",
      "File \u001b[0;32m<frozen importlib._bootstrap_external>:940\u001b[0m, in \u001b[0;36mexec_module\u001b[0;34m(self, module)\u001b[0m\n",
      "File \u001b[0;32m<frozen importlib._bootstrap>:241\u001b[0m, in \u001b[0;36m_call_with_frames_removed\u001b[0;34m(f, *args, **kwds)\u001b[0m\n",
      "File \u001b[0;32m~/screener/CTA_TEST/CRYPTO/kd_smoother_v0/kd_smoother_v0.py:12\u001b[0m\n\u001b[1;32m     10\u001b[0m \u001b[38;5;28;01mimport\u001b[39;00m \u001b[38;5;21;01msys\u001b[39;00m\n\u001b[1;32m     11\u001b[0m sys\u001b[38;5;241m.\u001b[39mpath\u001b[38;5;241m.\u001b[39mappend(\u001b[38;5;124m'\u001b[39m\u001b[38;5;124m../..\u001b[39m\u001b[38;5;124m'\u001b[39m)\n\u001b[0;32m---> 12\u001b[0m \u001b[38;5;28;01mimport\u001b[39;00m \u001b[38;5;21;01mvectorbtpro\u001b[39;00m \u001b[38;5;28;01mas\u001b[39;00m \u001b[38;5;21;01mvbt\u001b[39;00m\n\u001b[1;32m     13\u001b[0m \u001b[38;5;28;01mfrom\u001b[39;00m \u001b[38;5;21;01mvectorbtpro\u001b[39;00m\u001b[38;5;21;01m.\u001b[39;00m\u001b[38;5;21;01mportfolio\u001b[39;00m\u001b[38;5;21;01m.\u001b[39;00m\u001b[38;5;21;01menums\u001b[39;00m \u001b[38;5;28;01mimport\u001b[39;00m SizeType\n\u001b[1;32m     14\u001b[0m \u001b[38;5;28;01mfrom\u001b[39;00m \u001b[38;5;21;01msrc\u001b[39;00m\u001b[38;5;21;01m.\u001b[39;00m\u001b[38;5;21;01mutils\u001b[39;00m \u001b[38;5;28;01mimport\u001b[39;00m fu\n",
      "File \u001b[0;32m~/screener/CTA_TEST/vectorbtpro/__init__.py:29\u001b[0m\n\u001b[1;32m     26\u001b[0m     \u001b[38;5;28;01mfrom\u001b[39;00m \u001b[38;5;21;01mvectorbtpro\u001b[39;00m\u001b[38;5;21;01m.\u001b[39;00m\u001b[38;5;21;01maccessors\u001b[39;00m \u001b[38;5;28;01mimport\u001b[39;00m \u001b[38;5;241m*\u001b[39m\n\u001b[1;32m     28\u001b[0m \u001b[38;5;28;01mfrom\u001b[39;00m \u001b[38;5;21;01mvectorbtpro\u001b[39;00m \u001b[38;5;28;01mimport\u001b[39;00m _typing \u001b[38;5;28;01mas\u001b[39;00m tp\n\u001b[0;32m---> 29\u001b[0m \u001b[38;5;28;01mfrom\u001b[39;00m \u001b[38;5;21;01mvectorbtpro\u001b[39;00m\u001b[38;5;21;01m.\u001b[39;00m\u001b[38;5;21;01m_settings\u001b[39;00m \u001b[38;5;28;01mimport\u001b[39;00m settings\n\u001b[1;32m     30\u001b[0m \u001b[38;5;28;01mfrom\u001b[39;00m \u001b[38;5;21;01mvectorbtpro\u001b[39;00m\u001b[38;5;21;01m.\u001b[39;00m\u001b[38;5;21;01m_version\u001b[39;00m \u001b[38;5;28;01mimport\u001b[39;00m __version__ \u001b[38;5;28;01mas\u001b[39;00m version\n\u001b[1;32m     32\u001b[0m \u001b[38;5;66;03m# Silence warnings\u001b[39;00m\n",
      "File \u001b[0;32m~/screener/CTA_TEST/vectorbtpro/_settings.py:136\u001b[0m\n\u001b[1;32m    127\u001b[0m \u001b[38;5;28;01mfrom\u001b[39;00m \u001b[38;5;21;01mvectorbtpro\u001b[39;00m\u001b[38;5;21;01m.\u001b[39;00m\u001b[38;5;21;01mutils\u001b[39;00m\u001b[38;5;21;01m.\u001b[39;00m\u001b[38;5;21;01mconfig\u001b[39;00m \u001b[38;5;28;01mimport\u001b[39;00m child_dict, Config\n\u001b[1;32m    128\u001b[0m \u001b[38;5;28;01mfrom\u001b[39;00m \u001b[38;5;21;01mvectorbtpro\u001b[39;00m\u001b[38;5;21;01m.\u001b[39;00m\u001b[38;5;21;01mutils\u001b[39;00m\u001b[38;5;21;01m.\u001b[39;00m\u001b[38;5;21;01mexecution\u001b[39;00m \u001b[38;5;28;01mimport\u001b[39;00m (\n\u001b[1;32m    129\u001b[0m     SerialEngine,\n\u001b[1;32m    130\u001b[0m     ThreadPoolEngine,\n\u001b[0;32m   (...)\u001b[0m\n\u001b[1;32m    134\u001b[0m     RayEngine\n\u001b[1;32m    135\u001b[0m )\n\u001b[0;32m--> 136\u001b[0m \u001b[38;5;28;01mfrom\u001b[39;00m \u001b[38;5;21;01mvectorbtpro\u001b[39;00m\u001b[38;5;21;01m.\u001b[39;00m\u001b[38;5;21;01mutils\u001b[39;00m\u001b[38;5;21;01m.\u001b[39;00m\u001b[38;5;21;01mjitting\u001b[39;00m \u001b[38;5;28;01mimport\u001b[39;00m NumPyJitter, NumbaJitter\n\u001b[1;32m    137\u001b[0m \u001b[38;5;28;01mfrom\u001b[39;00m \u001b[38;5;21;01mvectorbtpro\u001b[39;00m\u001b[38;5;21;01m.\u001b[39;00m\u001b[38;5;21;01mutils\u001b[39;00m\u001b[38;5;21;01m.\u001b[39;00m\u001b[38;5;21;01mtemplate\u001b[39;00m \u001b[38;5;28;01mimport\u001b[39;00m Sub, RepEval, substitute_templates\n\u001b[1;32m    139\u001b[0m __all__ \u001b[38;5;241m=\u001b[39m [\n\u001b[1;32m    140\u001b[0m     \u001b[38;5;124m\"\u001b[39m\u001b[38;5;124msettings\u001b[39m\u001b[38;5;124m\"\u001b[39m,\n\u001b[1;32m    141\u001b[0m ]\n",
      "File \u001b[0;32m~/screener/CTA_TEST/vectorbtpro/utils/jitting.py:5\u001b[0m\n\u001b[1;32m      1\u001b[0m \u001b[38;5;66;03m# Copyright (c) 2021-2023 Oleg Polakow. All rights reserved.\u001b[39;00m\n\u001b[1;32m      3\u001b[0m \u001b[38;5;124;03m\"\"\"Utilities for jitting.\"\"\"\u001b[39;00m\n\u001b[0;32m----> 5\u001b[0m \u001b[38;5;28;01mfrom\u001b[39;00m \u001b[38;5;21;01mnumba\u001b[39;00m \u001b[38;5;28;01mimport\u001b[39;00m jit \u001b[38;5;28;01mas\u001b[39;00m nb_jit, generated_jit \u001b[38;5;28;01mas\u001b[39;00m nb_generated_jit\n\u001b[1;32m      7\u001b[0m \u001b[38;5;28;01mfrom\u001b[39;00m \u001b[38;5;21;01mvectorbtpro\u001b[39;00m \u001b[38;5;28;01mimport\u001b[39;00m _typing \u001b[38;5;28;01mas\u001b[39;00m tp\n\u001b[1;32m      8\u001b[0m \u001b[38;5;28;01mfrom\u001b[39;00m \u001b[38;5;21;01mvectorbtpro\u001b[39;00m\u001b[38;5;21;01m.\u001b[39;00m\u001b[38;5;21;01mutils\u001b[39;00m\u001b[38;5;21;01m.\u001b[39;00m\u001b[38;5;21;01mconfig\u001b[39;00m \u001b[38;5;28;01mimport\u001b[39;00m merge_dicts, Configured\n",
      "\u001b[0;31mImportError\u001b[0m: cannot import name 'generated_jit' from 'numba' (/Library/Frameworks/Python.framework/Versions/3.11/lib/python3.11/site-packages/numba/__init__.py)"
     ]
    }
   ],
   "source": [
    "import os \n",
    "import sys\n",
    "import importlib\n",
    "import warnings\n",
    "import pandas as pd # type: ignore\n",
    "import random\n",
    "import json\n",
    "import matplotlib.pyplot as plt # type: ignore\n",
    "\n",
    "warnings.filterwarnings(\"ignore\")\n",
    "\n",
    "from src.strategy.MultiTester import MultiTester\n",
    "\n",
    "# 找出檔案路徑\n",
    "strategy_path = './CRYPTO'\n",
    "strategy_folders = [folder for folder in os.listdir(strategy_path) if os.path.isdir(os.path.join(strategy_path, folder))]\n",
    "\n",
    "start = '2022-01-01'\n",
    "\n",
    "def plot_multi_params(strategy_name,params_dict, freq):\n",
    "    for coin in params_dict['params'].keys():\n",
    "        for direction in params_dict['params'][coin].keys():\n",
    "            if len(params_dict['params'][coin][direction].values()) == 0:\n",
    "                break\n",
    "            print(f'{strategy_name} {coin} in {freq}, {direction} direction.')\n",
    "            plt.figure(figsize=(10,5))\n",
    "            keys = list(params_dict['params'][coin][direction].keys())\n",
    "            if len(keys) >= 10:\n",
    "                random_keys = random.sample(keys, 10)\n",
    "                keys = random_keys \n",
    "            for idx in keys:\n",
    "                value = params_dict['params'][coin][direction][idx]\n",
    "                param = value\n",
    "                config = {'freq':freq, 'lag':1, 'fee': 0.0003, 'weekend_filter': False, 'rv_filter':False}\n",
    "                df = pd.read_hdf(f'/Users/johnsonhsiao/Desktop/data/{coin}USDT_PERPETUAL.h5')\n",
    "                strategy = Strategy(df=df.loc[start:], configs=config)\n",
    "                pf = strategy.strategy(side=direction,params=param)\n",
    "                stat = pf.stats()\n",
    "                values = pf.value\n",
    "                sharpe = round(stat['Sharpe Ratio'],4)\n",
    "                plt.plot(values.index, values, label=f'{idx}_{sharpe}')\n",
    "            plt.legend()\n",
    "            plt.show()\n",
    "            \n",
    "for strategy_name in strategy_folders:\n",
    "    module_name = f'CRYPTO.{strategy_name}.{strategy_name}'\n",
    "    strategy_module = importlib.import_module(module_name)\n",
    "    Strategy = getattr(strategy_module, 'Strategy')\n",
    "    param_list = os.listdir(f'./Crypto/{strategy_name}/opt/')\n",
    "    for folder in param_list:\n",
    "        if '.json' in folder:\n",
    "            freq = folder.split('_')[0]\n",
    "            with open(f'./CRYPTO/{strategy_name}/opt/{folder}', 'r') as file:\n",
    "                params_dict = json.load(file)\n",
    "                plot_multi_params(strategy_name,params_dict, freq)"
   ]
  },
  {
   "cell_type": "code",
   "execution_count": 14,
   "metadata": {},
   "outputs": [
    {
     "name": "stdout",
     "output_type": "stream",
     "text": [
      "Requirement already satisfied: numba in /Library/Frameworks/Python.framework/Versions/3.11/lib/python3.11/site-packages (0.59.1)\n",
      "Requirement already satisfied: llvmlite<0.43,>=0.42.0dev0 in /Library/Frameworks/Python.framework/Versions/3.11/lib/python3.11/site-packages (from numba) (0.42.0)\n",
      "Requirement already satisfied: numpy<1.27,>=1.22 in /Library/Frameworks/Python.framework/Versions/3.11/lib/python3.11/site-packages (from numba) (1.26.4)\n"
     ]
    }
   ],
   "source": [
    "!python3  -m pip install --upgrade numba\n"
   ]
  },
  {
   "cell_type": "code",
   "execution_count": 1,
   "metadata": {},
   "outputs": [],
   "source": [
    "import os \n",
    "import sys\n",
    "import importlib\n",
    "import warnings\n",
    "import pandas as pd\n",
    "import random\n",
    "import json\n",
    "import matplotlib.pyplot as plt\n",
    "\n",
    "warnings.filterwarnings(\"ignore\")\n",
    "\n",
    "from src.strategy.MultiTester import MultiTester\n",
    "\n",
    "strategy_path = os.path.join(sys.path[0], 'Crypto')\n",
    "strategy_folders = [folder for folder in os.listdir(strategy_path) if os.path.isdir(os.path.join(strategy_path, folder))]\n",
    "start = '2022-01-01'\n",
    "\n",
    "candidate_coin = {}\n",
    "candidate_coin['5T'] = {}\n",
    "candidate_coin['15T'] = {}\n",
    "candidate_coin['1h'] = {}\n",
    "candidate_coin['4h'] = {}\n",
    "\n",
    "for strategy_name in strategy_folders:\n",
    "    candidate_coin['5T'][strategy_name] = []\n",
    "    candidate_coin['15T'][strategy_name] = []\n",
    "    candidate_coin['1h'][strategy_name] = []\n",
    "    candidate_coin['4h'][strategy_name] = [] \n",
    "    module_name = f'Crypto.{strategy_name}.{strategy_name}'\n",
    "    strategy_module = importlib.import_module(module_name)\n",
    "    Strategy = getattr(strategy_module, 'Strategy')\n",
    "    param_list = os.listdir(f'./Crypto/{strategy_name}/opt/')\n",
    "    for folder in param_list:\n",
    "        if '.json' in folder:\n",
    "            freq = folder.split('_')[0]\n",
    "            with open(f'./Crypto/{strategy_name}/opt/{folder}', 'r') as file:\n",
    "                params_dict = json.load(file)\n",
    "                candidate_coin[freq][strategy_name].append(list((params_dict['params'].keys())))\n",
    "                "
   ]
  },
  {
   "cell_type": "code",
   "execution_count": 4,
   "metadata": {},
   "outputs": [
    {
     "name": "stdout",
     "output_type": "stream",
     "text": [
      "5T\n",
      "[['RUNE', 'GMT']]\n",
      "15T\n",
      "[['AVAX', 'OP', 'RUNE', 'ARB', 'GMT', 'LDO', 'APT', 'WAVES', 'STX']]\n",
      "1h\n",
      "[['OP', 'ARB', 'GMT', 'INJ', 'APT', 'WAVES', 'FET']]\n",
      "4h\n",
      "[['OP', 'GMT', 'INJ', 'APT']]\n"
     ]
    }
   ],
   "source": [
    "for key in candidate_coin.keys():\n",
    "    print(key)\n",
    "    print(candidate_coin[key]['ma_triple'])"
   ]
  },
  {
   "cell_type": "code",
   "execution_count": 2,
   "metadata": {},
   "outputs": [
    {
     "data": {
      "text/plain": [
       "{'GMT': 13,\n",
       " 'APT': 14,\n",
       " 'FET': 12,\n",
       " 'STX': 10,\n",
       " 'LTC': 1,\n",
       " 'OMG': 1,\n",
       " 'BLUR': 6,\n",
       " 'GRT': 3,\n",
       " 'RUNE': 6,\n",
       " 'INJ': 12,\n",
       " '1000SHIB': 1,\n",
       " 'NEO': 1,\n",
       " 'LDO': 5,\n",
       " 'TRX': 1,\n",
       " 'OP': 10,\n",
       " 'WAVES': 6,\n",
       " 'DYDX': 2,\n",
       " 'ARB': 7,\n",
       " 'AVAX': 1,\n",
       " 'ETC': 2,\n",
       " 'FTM': 2,\n",
       " 'AAVE': 1,\n",
       " 'GALA': 1,\n",
       " 'EOS': 1,\n",
       " 'NEAR': 1,\n",
       " 'BTC': 1,\n",
       " 'SUSHI': 1}"
      ]
     },
     "execution_count": 2,
     "metadata": {},
     "output_type": "execute_result"
    }
   ],
   "source": [
    "coin_count = {}\n",
    "for freq, value in candidate_coin.items():\n",
    "    for strategy, _ in value.items():\n",
    "        for temp in _:\n",
    "            if len(temp) != 0:\n",
    "                for coin in temp:\n",
    "                    if coin not in coin_count.keys():\n",
    "                        coin_count[coin] = 0\n",
    "                    coin_count[coin] += 1\n",
    "        \n",
    "coin_count"
   ]
  }
 ],
 "metadata": {
  "kernelspec": {
   "display_name": "Python 3",
   "language": "python",
   "name": "python3"
  },
  "language_info": {
   "codemirror_mode": {
    "name": "ipython",
    "version": 3
   },
   "file_extension": ".py",
   "mimetype": "text/x-python",
   "name": "python",
   "nbconvert_exporter": "python",
   "pygments_lexer": "ipython3",
   "version": "3.11.9"
  }
 },
 "nbformat": 4,
 "nbformat_minor": 2
}
