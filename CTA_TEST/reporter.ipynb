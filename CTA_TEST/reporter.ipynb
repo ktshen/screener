{
 "cells": [
  {
   "cell_type": "code",
   "execution_count": 2,
   "metadata": {},
   "outputs": [
    {
     "name": "stdout",
     "output_type": "stream",
     "text": [
      "./\n",
      "['CRYPTO', 'vectorbtpro', 'src']\n"
     ]
    },
    {
     "ename": "AttributeError",
     "evalue": "module 'os' has no attribute 'exit'",
     "output_type": "error",
     "traceback": [
      "\u001b[0;31m---------------------------------------------------------------------------\u001b[0m",
      "\u001b[0;31mAttributeError\u001b[0m                            Traceback (most recent call last)",
      "Cell \u001b[0;32mIn[2], line 20\u001b[0m\n\u001b[1;32m     17\u001b[0m strategy_folders \u001b[38;5;241m=\u001b[39m [folder \u001b[38;5;28;01mfor\u001b[39;00m folder \u001b[38;5;129;01min\u001b[39;00m os\u001b[38;5;241m.\u001b[39mlistdir(strategy_path) \u001b[38;5;28;01mif\u001b[39;00m os\u001b[38;5;241m.\u001b[39mpath\u001b[38;5;241m.\u001b[39misdir(os\u001b[38;5;241m.\u001b[39mpath\u001b[38;5;241m.\u001b[39mjoin(strategy_path, folder))]\n\u001b[1;32m     18\u001b[0m \u001b[38;5;28mprint\u001b[39m(strategy_folders)\n\u001b[0;32m---> 20\u001b[0m \u001b[43mos\u001b[49m\u001b[38;5;241;43m.\u001b[39;49m\u001b[43mexit\u001b[49m()\n\u001b[1;32m     22\u001b[0m start \u001b[38;5;241m=\u001b[39m \u001b[38;5;124m'\u001b[39m\u001b[38;5;124m2022-01-01\u001b[39m\u001b[38;5;124m'\u001b[39m\n\u001b[1;32m     24\u001b[0m \u001b[38;5;28;01mdef\u001b[39;00m \u001b[38;5;21mplot_multi_params\u001b[39m(strategy_name,params_dict, freq):\n",
      "\u001b[0;31mAttributeError\u001b[0m: module 'os' has no attribute 'exit'"
     ]
    }
   ],
   "source": [
    "import os \n",
    "import sys\n",
    "import importlib\n",
    "import warnings\n",
    "import pandas as pd # type: ignore\n",
    "import random\n",
    "import json\n",
    "import matplotlib.pyplot as plt # type: ignore\n",
    "\n",
    "warnings.filterwarnings(\"ignore\")\n",
    "\n",
    "from src.strategy.MultiTester import MultiTester\n",
    "\n",
    "# 找出檔案路徑\n",
    "strategy_path = './'\n",
    "strategy_folders = [folder for folder in os.listdir(strategy_path) if os.path.isdir(os.path.join(strategy_path, folder))]\n",
    "\n",
    "print(strategy_folders)\n",
    "\n",
    "os.exit()\n",
    "\n",
    "start = '2022-01-01'\n",
    "\n",
    "def plot_multi_params(strategy_name,params_dict, freq):\n",
    "    for coin in params_dict['params'].keys():\n",
    "        for direction in params_dict['params'][coin].keys():\n",
    "            if len(params_dict['params'][coin][direction].values()) == 0:\n",
    "                break\n",
    "            print(f'{strategy_name} {coin} in {freq}, {direction} direction.')\n",
    "            plt.figure(figsize=(10,5))\n",
    "            keys = list(params_dict['params'][coin][direction].keys())\n",
    "            if len(keys) >= 10:\n",
    "                random_keys = random.sample(keys, 10)\n",
    "                keys = random_keys \n",
    "            for idx in keys:\n",
    "                value = params_dict['params'][coin][direction][idx]\n",
    "                param = value\n",
    "                config = {'freq':freq, 'lag':1, 'fee': 0.0003, 'weekend_filter': False, 'rv_filter':False}\n",
    "                df = pd.read_hdf(f'/Users/johnsonhsiao/Desktop/data/{coin}USDT_PERPETUAL.h5')\n",
    "                strategy = Strategy(df=df.loc[start:], configs=config)\n",
    "                pf = strategy.strategy(side=direction,params=param)\n",
    "                stat = pf.stats()\n",
    "                values = pf.value\n",
    "                sharpe = round(stat['Sharpe Ratio'],4)\n",
    "                plt.plot(values.index, values, label=f'{idx}_{sharpe}')\n",
    "            plt.legend()\n",
    "            plt.show()\n",
    "            \n",
    "for strategy_name in strategy_folders:\n",
    "    module_name = f'Crypto.{strategy_name}.{strategy_name}'\n",
    "    strategy_module = importlib.import_module(module_name)\n",
    "    Strategy = getattr(strategy_module, 'Strategy')\n",
    "    param_list = os.listdir(f'./Crypto/{strategy_name}/opt/')\n",
    "    for folder in param_list:\n",
    "        if '.json' in folder:\n",
    "            freq = folder.split('_')[0]\n",
    "            with open(f'./Crypto/{strategy_name}/opt/{folder}', 'r') as file:\n",
    "                params_dict = json.load(file)\n",
    "                plot_multi_params(strategy_name,params_dict, freq)"
   ]
  },
  {
   "cell_type": "code",
   "execution_count": null,
   "metadata": {},
   "outputs": [],
   "source": []
  },
  {
   "cell_type": "code",
   "execution_count": 1,
   "metadata": {},
   "outputs": [],
   "source": [
    "import os \n",
    "import sys\n",
    "import importlib\n",
    "import warnings\n",
    "import pandas as pd\n",
    "import random\n",
    "import json\n",
    "import matplotlib.pyplot as plt\n",
    "\n",
    "warnings.filterwarnings(\"ignore\")\n",
    "\n",
    "from src.strategy.MultiTester import MultiTester\n",
    "\n",
    "strategy_path = os.path.join(sys.path[0], 'Crypto')\n",
    "strategy_folders = [folder for folder in os.listdir(strategy_path) if os.path.isdir(os.path.join(strategy_path, folder))]\n",
    "start = '2022-01-01'\n",
    "\n",
    "candidate_coin = {}\n",
    "candidate_coin['5T'] = {}\n",
    "candidate_coin['15T'] = {}\n",
    "candidate_coin['1h'] = {}\n",
    "candidate_coin['4h'] = {}\n",
    "\n",
    "for strategy_name in strategy_folders:\n",
    "    candidate_coin['5T'][strategy_name] = []\n",
    "    candidate_coin['15T'][strategy_name] = []\n",
    "    candidate_coin['1h'][strategy_name] = []\n",
    "    candidate_coin['4h'][strategy_name] = [] \n",
    "    module_name = f'Crypto.{strategy_name}.{strategy_name}'\n",
    "    strategy_module = importlib.import_module(module_name)\n",
    "    Strategy = getattr(strategy_module, 'Strategy')\n",
    "    param_list = os.listdir(f'./Crypto/{strategy_name}/opt/')\n",
    "    for folder in param_list:\n",
    "        if '.json' in folder:\n",
    "            freq = folder.split('_')[0]\n",
    "            with open(f'./Crypto/{strategy_name}/opt/{folder}', 'r') as file:\n",
    "                params_dict = json.load(file)\n",
    "                candidate_coin[freq][strategy_name].append(list((params_dict['params'].keys())))\n",
    "                "
   ]
  },
  {
   "cell_type": "code",
   "execution_count": 4,
   "metadata": {},
   "outputs": [
    {
     "name": "stdout",
     "output_type": "stream",
     "text": [
      "5T\n",
      "[['RUNE', 'GMT']]\n",
      "15T\n",
      "[['AVAX', 'OP', 'RUNE', 'ARB', 'GMT', 'LDO', 'APT', 'WAVES', 'STX']]\n",
      "1h\n",
      "[['OP', 'ARB', 'GMT', 'INJ', 'APT', 'WAVES', 'FET']]\n",
      "4h\n",
      "[['OP', 'GMT', 'INJ', 'APT']]\n"
     ]
    }
   ],
   "source": [
    "for key in candidate_coin.keys():\n",
    "    print(key)\n",
    "    print(candidate_coin[key]['ma_triple'])"
   ]
  },
  {
   "cell_type": "code",
   "execution_count": 2,
   "metadata": {},
   "outputs": [
    {
     "data": {
      "text/plain": [
       "{'GMT': 13,\n",
       " 'APT': 14,\n",
       " 'FET': 12,\n",
       " 'STX': 10,\n",
       " 'LTC': 1,\n",
       " 'OMG': 1,\n",
       " 'BLUR': 6,\n",
       " 'GRT': 3,\n",
       " 'RUNE': 6,\n",
       " 'INJ': 12,\n",
       " '1000SHIB': 1,\n",
       " 'NEO': 1,\n",
       " 'LDO': 5,\n",
       " 'TRX': 1,\n",
       " 'OP': 10,\n",
       " 'WAVES': 6,\n",
       " 'DYDX': 2,\n",
       " 'ARB': 7,\n",
       " 'AVAX': 1,\n",
       " 'ETC': 2,\n",
       " 'FTM': 2,\n",
       " 'AAVE': 1,\n",
       " 'GALA': 1,\n",
       " 'EOS': 1,\n",
       " 'NEAR': 1,\n",
       " 'BTC': 1,\n",
       " 'SUSHI': 1}"
      ]
     },
     "execution_count": 2,
     "metadata": {},
     "output_type": "execute_result"
    }
   ],
   "source": [
    "coin_count = {}\n",
    "for freq, value in candidate_coin.items():\n",
    "    for strategy, _ in value.items():\n",
    "        for temp in _:\n",
    "            if len(temp) != 0:\n",
    "                for coin in temp:\n",
    "                    if coin not in coin_count.keys():\n",
    "                        coin_count[coin] = 0\n",
    "                    coin_count[coin] += 1\n",
    "        \n",
    "coin_count"
   ]
  }
 ],
 "metadata": {
  "kernelspec": {
   "display_name": "Python 3",
   "language": "python",
   "name": "python3"
  },
  "language_info": {
   "codemirror_mode": {
    "name": "ipython",
    "version": 3
   },
   "file_extension": ".py",
   "mimetype": "text/x-python",
   "name": "python",
   "nbconvert_exporter": "python",
   "pygments_lexer": "ipython3",
   "version": "3.11.9"
  }
 },
 "nbformat": 4,
 "nbformat_minor": 2
}
